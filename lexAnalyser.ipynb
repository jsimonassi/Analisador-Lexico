{
  "nbformat": 4,
  "nbformat_minor": 0,
  "metadata": {
    "colab": {
      "provenance": [],
      "collapsed_sections": [],
      "include_colab_link": true
    },
    "kernelspec": {
      "name": "python3",
      "display_name": "Python 3"
    },
    "language_info": {
      "name": "python"
    }
  },
  "cells": [
    {
      "cell_type": "markdown",
      "metadata": {
        "id": "view-in-github",
        "colab_type": "text"
      },
      "source": [
        "<a href=\"https://colab.research.google.com/github/jsimonassi/Analisador-Lexico/blob/master/lexAnalyser.ipynb\" target=\"_parent\"><img src=\"https://colab.research.google.com/assets/colab-badge.svg\" alt=\"Open In Colab\"/></a>"
      ]
    },
    {
      "cell_type": "code",
      "source": [
        "from constants import STATES\n",
        "import re\n",
        "import utils\n",
        "from analyzer import Analyzer\n",
        "\n",
        "line = 0\n",
        "column = 0\n",
        "\n",
        "\n",
        "def open_file():\n",
        "    try:\n",
        "        return open(\"inputs/full_example.c\", \"r\")\n",
        "        # return open(\"inputs/full_example.c\", \"r\")\n",
        "        # return open(\"inputs/error_example.c\", \"r\")\n",
        "    except Exception as e:\n",
        "        print(\"Erro ao abrir o arquivo\", e)\n",
        "        exit(1)\n",
        "\n",
        "\n",
        "input_file = open_file()\n",
        "if __name__ == '__main__':\n",
        "\n",
        "    lex_analyzer = Analyzer()\n",
        "\n",
        "    for line_iterator in input_file:\n",
        "        line = line + 1\n",
        "        column = 0\n",
        "        for cursor in line_iterator:\n",
        "            column = column + 1\n",
        "\n",
        "            if lex_analyzer.state == STATES.INITIAL:  # OK\n",
        "                if cursor == \"/\" and line_iterator[column] == \"*\" and lex_analyzer.state == STATES.INITIAL and lex_analyzer.state != STATES.COMMENT:\n",
        "                    lex_analyzer.state = STATES.COMMENT\n",
        "                    lex_analyzer.append_token(\"/*\")\n",
        "\n",
        "                if re.search(r\"^(#)\", line_iterator) and lex_analyzer.state == STATES.INITIAL and lex_analyzer.state != STATES.COMMENT:\n",
        "                    break\n",
        "\n",
        "                if re.search(r\"([A-Za-z_])\", cursor) and lex_analyzer.state == STATES.INITIAL and lex_analyzer.state != STATES.COMMENT:\n",
        "                    lex_analyzer.state = STATES.IDENTIFIER\n",
        "\n",
        "                if re.match(r\"[0-9]\", cursor) and lex_analyzer.state == STATES.INITIAL and lex_analyzer.state != STATES.COMMENT:\n",
        "                    lex_analyzer.state = STATES.NUMERIC  # Constante Numérica\n",
        "                if re.match(r\"[\\\"]\", cursor) and lex_analyzer.state == STATES.INITIAL and lex_analyzer.state != STATES.COMMENT:\n",
        "                    lex_analyzer.state = STATES.LITERAL\n",
        "                if utils.is_number(cursor) and utils.is_special_caracter(cursor) and lex_analyzer.state == STATES.INITIAL and lex_analyzer.state != STATES.COMMENT:\n",
        "                    if not utils.is_error(cursor):\n",
        "                        lex_analyzer.append_token(cursor)\n",
        "                    else:\n",
        "                        lex_analyzer.append_error(cursor)\n",
        "\n",
        "            if lex_analyzer.state == STATES.COMMENT:\n",
        "                lex_analyzer.check_comment(cursor)\n",
        "\n",
        "            if lex_analyzer.state == STATES.IDENTIFIER:\n",
        "                lex_analyzer.check_identifier(cursor)\n",
        "\n",
        "            if lex_analyzer.state == STATES.LITERAL:\n",
        "                lex_analyzer.check_literal(cursor)\n",
        "\n",
        "            if lex_analyzer.state == STATES.NUMERIC:\n",
        "                lex_analyzer.check_numeric(cursor)\n",
        "\n",
        "    print(lex_analyzer.response_token)\n"
      ],
      "metadata": {
        "colab": {
          "base_uri": "https://localhost:8080/"
        },
        "id": "5oweWEFxPgJv",
        "outputId": "f4ab2bf8-a666-4a60-b9c6-6505acbf02eb"
      },
      "execution_count": null,
      "outputs": [
        {
          "output_type": "stream",
          "name": "stdout",
          "text": [
            "[['OPEN_COMMENT', '/*'], ['CLOSE_COMMENT', '*/'], ['INT', 'int'], ['ID', 'main'], ['OPEN_BRACKET', '('], ['CLOSE_BRACKET', ')'], ['OPEN_BRACE', '{'], ['INT', 'int'], ['ID', 'a'], ['ATTR', '='], ['NUMBER', '8'], ['COMMA', ','], ['ID', 'b'], ['ATTR', '='], ['NUMBER', '2'], ['SEMICOLON', ';'], ['INT', 'int'], ['ID', 'c'], ['ATTR', '='], ['ID', 'a'], ['SUM', '+'], ['ID', 'b'], ['SEMICOLON', ';'], ['IF', 'if'], ['IF', 'if'], ['ID', 'c'], ['GT', '>'], ['NUMBER', '10'], ['CLOSE_BRACKET', ')'], ['OPEN_BRACE', '{'], ['RETURN', 'return'], ['NUMBER', '1'], ['SEMICOLON', ';'], ['CLOSE_BRACE', '}'], ['RETURN', 'return'], ['NUMBER', '0'], ['SEMICOLON', ';'], ['CLOSE_BRACE', '}']]\n"
          ]
        }
      ]
    },
    {
      "cell_type": "code",
      "source": [
        "from google.colab import drive\n",
        "drive.mount('/content/drive')"
      ],
      "metadata": {
        "colab": {
          "base_uri": "https://localhost:8080/"
        },
        "id": "G5Unuy9dRRwa",
        "outputId": "08c2b126-feef-49d0-d364-98d1e7b4277a"
      },
      "execution_count": null,
      "outputs": [
        {
          "output_type": "stream",
          "name": "stdout",
          "text": [
            "Mounted at /content/drive\n"
          ]
        }
      ]
    }
  ]
}